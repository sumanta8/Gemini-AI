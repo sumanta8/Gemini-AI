{
 "cells": [
  {
   "cell_type": "code",
   "execution_count": 19,
   "id": "d4a2eb5d",
   "metadata": {},
   "outputs": [
    {
     "name": "stdout",
     "output_type": "stream",
     "text": [
      "Note: you may need to restart the kernel to use updated packages.\n"
     ]
    }
   ],
   "source": [
    "%pip install -q -U google-genai python-dotenv Pillow"
   ]
  },
  {
   "cell_type": "code",
   "execution_count": 20,
   "id": "b29aaff4",
   "metadata": {},
   "outputs": [
    {
     "data": {
      "text/plain": [
       "True"
      ]
     },
     "execution_count": 20,
     "metadata": {},
     "output_type": "execute_result"
    }
   ],
   "source": [
    "from dotenv import load_dotenv\n",
    "import os\n",
    "\n",
    "# Load environment variables from the .env file\n",
    "load_dotenv()"
   ]
  },
  {
   "cell_type": "code",
   "execution_count": 21,
   "id": "40b40f19",
   "metadata": {},
   "outputs": [],
   "source": [
    "from datetime import datetime\n",
    "import os\n",
    "\n",
    "# Create a folder inside \"Image Dataset\" with timestamp as name\n",
    "timestamp = datetime.now().strftime(\"%Y%m%d_%H%M%S\")\n",
    "folder_path = os.path.join(\"Image Dataset\", timestamp)\n",
    "os.makedirs(folder_path, exist_ok=True)"
   ]
  },
  {
   "cell_type": "code",
   "execution_count": null,
   "id": "a715a28c",
   "metadata": {},
   "outputs": [
    {
     "name": "stdout",
     "output_type": "stream",
     "text": [
      "Image saved as image_1.jpg in Image Dataset\\20250418_160820\n",
      "Image saved as image_2.jpg in Image Dataset\\20250418_160820\n",
      "Image saved as image_2.jpg in Image Dataset\\20250418_160820\n",
      "Image saved as image_3.jpg in Image Dataset\\20250418_160820\n",
      "Image saved as image_3.jpg in Image Dataset\\20250418_160820\n",
      "Image saved as image_4.jpg in Image Dataset\\20250418_160820\n",
      "Image saved as image_4.jpg in Image Dataset\\20250418_160820\n",
      "Image saved as image_5.jpg in Image Dataset\\20250418_160820\n",
      "Image saved as image_5.jpg in Image Dataset\\20250418_160820\n",
      "Image saved as image_6.jpg in Image Dataset\\20250418_160820\n",
      "Image saved as image_6.jpg in Image Dataset\\20250418_160820\n",
      "Image saved as image_7.jpg in Image Dataset\\20250418_160820\n",
      "Image saved as image_7.jpg in Image Dataset\\20250418_160820\n",
      "Image saved as image_8.jpg in Image Dataset\\20250418_160820\n",
      "Image saved as image_8.jpg in Image Dataset\\20250418_160820\n",
      "Image saved as image_9.jpg in Image Dataset\\20250418_160820\n",
      "Image saved as image_9.jpg in Image Dataset\\20250418_160820\n"
     ]
    }
   ],
   "source": [
    "from google import genai\n",
    "from google.genai import types\n",
    "from PIL import Image\n",
    "from io import BytesIO\n",
    "\n",
    "import PIL.Image\n",
    "\n",
    "image = PIL.Image.open(r'D:\\Projects\\LLM\\Gemini AI\\NANO CASE.jpg')\n",
    "\n",
    "client = genai.Client(api_key=os.getenv(\"API_KEY\"))\n",
    "\n",
    "myfile = client.files.upload(file=\"D:/Projects/LLM/Gemini AI/NANO CASE.jpg\")\n",
    "\n",
    "text_input = ('Hi, This is a product.'\n",
    "            'Can you generate similar product image?',)\n",
    "\n",
    "for x in range(1, 101):\n",
    "    response = client.models.generate_content(\n",
    "        model=\"gemini-2.0-flash-exp-image-generation\",\n",
    "        contents=[text_input, myfile],\n",
    "        config=types.GenerateContentConfig(\n",
    "        response_modalities=['TEXT', 'IMAGE']\n",
    "        )\n",
    "    )\n",
    "\n",
    "    for part in response.candidates[0].content.parts:\n",
    "        if part.text is not None:\n",
    "            print(part.text)\n",
    "        elif part.inline_data is not None:\n",
    "            file_name = f\"image_{x}.jpg\"\n",
    "            # Save the image to the folder with the same name as the file\n",
    "            with open(f\"{folder_path}/{file_name}\", \"wb\") as f:\n",
    "                f.write(part.inline_data.data)\n",
    "            # image = Image.open(BytesIO(part.inline_data.data))\n",
    "            # image.show()\n",
    "            print(f\"Image saved as {file_name} in {folder_path}\")"
   ]
  }
 ],
 "metadata": {
  "kernelspec": {
   "display_name": "Python 3",
   "language": "python",
   "name": "python3"
  },
  "language_info": {
   "codemirror_mode": {
    "name": "ipython",
    "version": 3
   },
   "file_extension": ".py",
   "mimetype": "text/x-python",
   "name": "python",
   "nbconvert_exporter": "python",
   "pygments_lexer": "ipython3",
   "version": "3.11.11"
  }
 },
 "nbformat": 4,
 "nbformat_minor": 5
}
