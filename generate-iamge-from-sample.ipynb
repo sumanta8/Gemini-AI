{
 "cells": [
  {
   "cell_type": "code",
   "execution_count": 1,
   "id": "d4a2eb5d",
   "metadata": {},
   "outputs": [
    {
     "name": "stdout",
     "output_type": "stream",
     "text": [
      "Note: you may need to restart the kernel to use updated packages.\n"
     ]
    }
   ],
   "source": [
    "%pip install -q -U google-genai python-dotenv Pillow"
   ]
  },
  {
   "cell_type": "code",
   "execution_count": 2,
   "id": "b29aaff4",
   "metadata": {},
   "outputs": [
    {
     "data": {
      "text/plain": [
       "True"
      ]
     },
     "execution_count": 2,
     "metadata": {},
     "output_type": "execute_result"
    }
   ],
   "source": [
    "from dotenv import load_dotenv\n",
    "import os\n",
    "\n",
    "# Load environment variables from the .env file\n",
    "load_dotenv()"
   ]
  },
  {
   "cell_type": "code",
   "execution_count": 3,
   "id": "40b40f19",
   "metadata": {},
   "outputs": [],
   "source": [
    "from datetime import datetime\n",
    "import os\n",
    "\n",
    "# Create a folder inside \"Image Dataset\" with timestamp as name\n",
    "timestamp = datetime.now().strftime(\"%Y%m%d_%H%M%S\")\n",
    "folder_path = os.path.join(\"Image Dataset\", timestamp)\n",
    "os.makedirs(folder_path, exist_ok=True)"
   ]
  },
  {
   "cell_type": "code",
   "execution_count": null,
   "id": "a715a28c",
   "metadata": {},
   "outputs": [
    {
     "name": "stdout",
     "output_type": "stream",
     "text": [
      "Image saved as image_1.jpg in Image Dataset\\20250425_202412\n",
      "Image saved as image_2.jpg in Image Dataset\\20250425_202412\n",
      "Image saved as image_3.jpg in Image Dataset\\20250425_202412\n",
      "Image saved as image_4.jpg in Image Dataset\\20250425_202412\n",
      "Image saved as image_5.jpg in Image Dataset\\20250425_202412\n",
      "Image saved as image_6.jpg in Image Dataset\\20250425_202412\n",
      "Image saved as image_7.jpg in Image Dataset\\20250425_202412\n",
      "Image saved as image_8.jpg in Image Dataset\\20250425_202412\n",
      "Image saved as image_9.jpg in Image Dataset\\20250425_202412\n",
      "Waiting for 8.14 seconds to complete a minute.\n",
      "Image saved as image_1.jpg in Image Dataset\\20250425_202412\n",
      "Image saved as image_2.jpg in Image Dataset\\20250425_202412\n",
      "Image saved as image_3.jpg in Image Dataset\\20250425_202412\n",
      "Image saved as image_4.jpg in Image Dataset\\20250425_202412\n",
      "Image saved as image_5.jpg in Image Dataset\\20250425_202412\n",
      "Image saved as image_6.jpg in Image Dataset\\20250425_202412\n",
      "Image saved as image_7.jpg in Image Dataset\\20250425_202412\n",
      "Image saved as image_8.jpg in Image Dataset\\20250425_202412\n",
      "Image saved as image_9.jpg in Image Dataset\\20250425_202412\n",
      "Waiting for 8.93 seconds to complete a minute.\n"
     ]
    },
    {
     "ename": "KeyboardInterrupt",
     "evalue": "",
     "output_type": "error",
     "traceback": [
      "\u001b[31m---------------------------------------------------------------------------\u001b[39m",
      "\u001b[31mKeyboardInterrupt\u001b[39m                         Traceback (most recent call last)",
      "\u001b[36mCell\u001b[39m\u001b[36m \u001b[39m\u001b[32mIn[9]\u001b[39m\u001b[32m, line 44\u001b[39m\n\u001b[32m     42\u001b[39m time_to_wait = \u001b[32m60\u001b[39m - elapsed_time\n\u001b[32m     43\u001b[39m \u001b[38;5;28mprint\u001b[39m(\u001b[33mf\u001b[39m\u001b[33m\"\u001b[39m\u001b[33mWaiting for \u001b[39m\u001b[38;5;132;01m{\u001b[39;00mtime_to_wait\u001b[38;5;132;01m:\u001b[39;00m\u001b[33m.2f\u001b[39m\u001b[38;5;132;01m}\u001b[39;00m\u001b[33m seconds to complete a minute.\u001b[39m\u001b[33m\"\u001b[39m)\n\u001b[32m---> \u001b[39m\u001b[32m44\u001b[39m \u001b[43mtime\u001b[49m\u001b[43m.\u001b[49m\u001b[43msleep\u001b[49m\u001b[43m(\u001b[49m\u001b[43mtime_to_wait\u001b[49m\u001b[43m)\u001b[49m\n",
      "\u001b[31mKeyboardInterrupt\u001b[39m: "
     ]
    }
   ],
   "source": [
    "from google import genai\n",
    "from google.genai import types\n",
    "from PIL import Image\n",
    "from io import BytesIO\n",
    "import time\n",
    "\n",
    "import PIL.Image\n",
    "\n",
    "image = PIL.Image.open(r'D:\\Projects\\LLM\\Gemini AI\\DePuy Synthes.jpg')\n",
    "\n",
    "client = genai.Client(api_key=os.getenv(\"API_KEY\"))\n",
    "\n",
    "myfile = client.files.upload(file=\"D:/Projects/LLM/Gemini AI/DePuy Synthes.jpg\")\n",
    "\n",
    "text_input = ('''The image displays a meticulously organized DePuy Synthes Universal Small Fragment Screw Insertion Instrument Set, specifically designed for orthopaedic surgeries involving the fixation of small bone fragments. The metallic tray contains various essential tools for screw insertion, including screwdrivers with different tips and handles, drill bits of varying diameters, drill guides for accurate pilot hole creation, depth gauges for precise screw length selection, and potentially reduction instruments for temporary bone fragment fixation, all arranged in designated slots for efficient use in the operating room and designed for sterilization.''')\n",
    "\n",
    "counter = 10\n",
    "\n",
    "for x in range(1, 10):\n",
    "    start_time = datetime.now()\n",
    "\n",
    "    for x in range(1, 10):\n",
    "        response = client.models.generate_content(\n",
    "            model=\"gemini-2.0-flash-exp-image-generation\",\n",
    "            contents=[text_input, myfile],\n",
    "            config=types.GenerateContentConfig(\n",
    "                response_modalities=['TEXT', 'IMAGE']\n",
    "            )\n",
    "        )\n",
    "\n",
    "        for part in response.candidates[0].content.parts:\n",
    "            if part.text is not None:\n",
    "                print(part.text)\n",
    "            elif part.inline_data is not None:\n",
    "                file_name = f\"image_{counter}.jpg\"\n",
    "                # Save the image to the folder with the same name as the file\n",
    "                with open(f\"{folder_path}/{file_name}\", \"wb\") as f:\n",
    "                    f.write(part.inline_data.data)\n",
    "                print(f\"Image saved as {file_name} in {folder_path}\")\n",
    "        counter += 1  \n",
    "\n",
    "    # Ensure the process takes at least one minute\n",
    "    elapsed_time = (datetime.now() - start_time).total_seconds()\n",
    "    if elapsed_time < 60:\n",
    "        time_to_wait = 60 - elapsed_time\n",
    "        print(f\"Waiting for {time_to_wait:.2f} seconds to complete a minute.\")\n",
    "        time.sleep(time_to_wait)"
   ]
  }
 ],
 "metadata": {
  "kernelspec": {
   "display_name": "Python 3",
   "language": "python",
   "name": "python3"
  },
  "language_info": {
   "codemirror_mode": {
    "name": "ipython",
    "version": 3
   },
   "file_extension": ".py",
   "mimetype": "text/x-python",
   "name": "python",
   "nbconvert_exporter": "python",
   "pygments_lexer": "ipython3",
   "version": "3.11.11"
  }
 },
 "nbformat": 4,
 "nbformat_minor": 5
}
